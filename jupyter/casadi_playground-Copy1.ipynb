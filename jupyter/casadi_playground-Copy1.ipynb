{
 "cells": [
  {
   "cell_type": "code",
   "execution_count": 1,
   "id": "695cd3b4",
   "metadata": {},
   "outputs": [],
   "source": [
    "from __future__ import print_function\n",
    "from pylab import *\n",
    "from casadi import *\n",
    "from casadi.tools import *  # for dotdraw\n",
    "from IPython.display import Image, display\n",
    "%matplotlib inline\n",
    "\n",
    "def view_dot(graph):\n",
    "   plt = Image(graph.create_png())\n",
    "   display(plt)"
   ]
  },
  {
   "cell_type": "markdown",
   "id": "2c983ac0",
   "metadata": {},
   "source": []
  },
  {
   "cell_type": "code",
   "execution_count": 2,
   "id": "786bbc76",
   "metadata": {},
   "outputs": [
    {
     "name": "stdout",
     "output_type": "stream",
     "text": [
      "\n",
      "******************************************************************************\n",
      "This program contains Ipopt, a library for large-scale nonlinear optimization.\n",
      " Ipopt is released as open source code under the Eclipse Public License (EPL).\n",
      "         For more information visit http://projects.coin-or.org/Ipopt\n",
      "******************************************************************************\n",
      "\n"
     ]
    },
    {
     "data": {
      "image/png": "[encoded data removed]",
      "text/plain": [
       "<Figure size 432x288 with 1 Axes>"
      ]
     },
     "metadata": {
      "needs_background": "light"
     },
     "output_type": "display_data"
    }
   ],
   "source": [
    "T = 10. # Time horizon\n",
    "N = 100 # number of control intervals\n",
    "\n",
    "# Declare model variables\n",
    "x1 = MX.sym('x1')\n",
    "x2 = MX.sym('x2')\n",
    "phi = MX.sym('phi')\n",
    "v = MX.sym('v')\n",
    "d = MX.sym('d')\n",
    "x = vertcat(x1, x2, phi, v, d)\n",
    "a = MX.sym('a')\n",
    "dd = MX.sym('dd')\n",
    "u = vertcat(a, dd)\n",
    "\n",
    "alpha = MX.sym('v')\n",
    "beta = MX.sym('d')\n",
    "\n",
    "L_f = 0.76\n",
    "\n",
    "# Model equations\n",
    "xdot = vertcat(v*cos(phi), v*sin(phi), v*d/L_f, a, dd)\n",
    "\n",
    "\n",
    "# Objective term\n",
    "L = alpha*(x1-x2)**2 + beta*(v-10)**2\n",
    "Lf = Function('Lf', [alpha, beta, x, u], [L])\n",
    "\n",
    "\n",
    "# Formulate discrete time dynamics\n",
    "# if False:\n",
    "   # CVODES from the SUNDIALS suite\n",
    "#   dae = {'x':x, 'p':u, 'ode':xdot, 'quad':L}\n",
    "#   opts = {'tf':T/N}\n",
    "#   F = integrator('F', 'cvodes', dae, opts)\n",
    "\n",
    "'''\n",
    "f = Function('f', [x, u], [xdot])\n",
    "Lf = Function('Lf', [x, u], [L])\n",
    "\n",
    "dae = {'x':x, 'p':u, 'ode':f(x,u), 'quad':Lf(x,u)}\n",
    "opts = {'tf':T/N, \"simplify\": True, \"number_of_finite_elements\": 4}\n",
    "f = integrator('f', 'rk', dae, opts)\n",
    "'''\n",
    "\n",
    "DT = T/N\n",
    "f = Function('f', [x, u], [xdot, L])\n",
    "X0 = MX.sym('X0', 5)\n",
    "U = MX.sym('U', 2)\n",
    "X = X0\n",
    "Q = 0\n",
    "\n",
    "\n",
    "k1, k1_q = f(X, U)\n",
    "X=X+DT*k1\n",
    "Q = k1_q\n",
    "F = Function('F', [X0, U], [X, Q],['x0','p'],['xf','qf'])\n",
    "\n",
    "def loop(x_val,y_val,phi_val,v_val,d_val,last_a):\n",
    "    # Start with an empty NLP\n",
    "    w=[]\n",
    "    w0 = []\n",
    "    lbw = []\n",
    "    ubw = []\n",
    "    J = 0\n",
    "    g=[]\n",
    "    lbg = []\n",
    "    ubg = []\n",
    "\n",
    "    # \"Lift\" initial conditions\n",
    "    Xk = MX.sym('X0', 5)\n",
    "    w += [Xk]\n",
    "    lbw += [x_val,y_val,phi_val,v_val,d_val]\n",
    "    ubw += [x_val,y_val,phi_val,v_val,d_val]\n",
    "    w0 += [x_val,y_val,phi_val,v_val,d_val]\n",
    "\n",
    "    #Xk = MX([x_val, y_val, phi_val, v_val,d_val])\n",
    "    # Formulate the NLP\n",
    "    for k in range(N):\n",
    "        # New NLP variable for the control\n",
    "        Uk = MX.sym('U_' + str(k), 2)\n",
    "        w   += [Uk]\n",
    "        lbw += [-1,-0.2] # 25-degrees in radians\n",
    "        ubw += [1,0.2]\n",
    "        w0  += [last_a,0]\n",
    "\n",
    "        # Integrate till the end of the interval\n",
    "        Fk = F(x0=Xk, p=Uk)\n",
    "        Xk_end = Fk['xf']\n",
    "        J=J+Lf(10,1,Xk,Uk)\n",
    "\n",
    "        # New NLP variable for state at end of interval\n",
    "        Xk = MX.sym('X_' + str(k+1), 5)\n",
    "        w   += [Xk]\n",
    "        lbw += [0, -inf, -inf, 0.0, -0.43]\n",
    "        ubw += [  inf,  inf, inf, inf, 0.43]\n",
    "        w0  += [0, 0, 0, 0, 0]\n",
    "\n",
    "        # Add equality constraint\n",
    "        g   += [Xk_end-Xk]\n",
    "        lbg += [0, 0, 0, 0, 0]\n",
    "        ubg += [0, 0, 0, 0, 0]\n",
    "\n",
    "    # Create an NLP solver\n",
    "    prob = {'f': J, 'x': vertcat(*w), 'g': vertcat(*g)}\n",
    "    opts = {'ipopt.print_level':0, 'print_time':0}\n",
    "    solver = nlpsol('solver', 'ipopt', prob, opts)\n",
    "\n",
    "    # Solve the NLP\n",
    "    sol = solver(x0=w0, lbx=lbw, ubx=ubw, lbg=lbg, ubg=ubg)\n",
    "\n",
    "\n",
    "    w_opt = sol['x'].full().flatten()\n",
    "\n",
    "    # Plot the solution\n",
    "    x1_opt = w_opt[0::7]\n",
    "    x2_opt = w_opt[1::7]\n",
    "    u1_opt = w_opt[5::7]\n",
    "    u2_opt = w_opt[6::7]\n",
    "    return u1_opt[0],u2_opt[0],x1_opt,x2_opt\n",
    "\n",
    "import numpy as np\n",
    "\n",
    "def move(state, a, dd, dt):\n",
    "    x1,x2,phi,v,d = state\n",
    "    g = [v*np.cos(phi), v*np.sin(phi), v*d/L_f, a, dd]\n",
    "    return [state[i] + g[i]*dt for i in range(5)]\n",
    "        \n",
    "M = 50\n",
    "past_states = np.zeros((M,5))\n",
    "state = [0.1,0.0,0.0,0.0,0.0]\n",
    "\n",
    "a_hist = []\n",
    "d_hist = []\n",
    "x = []\n",
    "y = []\n",
    "opt_a = 0.5\n",
    "for epoch in range(M):\n",
    "    past_states[epoch,:] = np.array(state)\n",
    "    opt_a,opt_dd,x,y = loop(*state, opt_a)\n",
    "    a_hist.append(opt_a)\n",
    "    d_hist.append(opt_dd)\n",
    "    state = move(state, opt_a, opt_dd, DT)\n",
    "\n",
    "plt.plot(past_states[:,0], past_states[:,1])\n",
    "#plt.plot(x,y)\n",
    "plt.grid(True)\n",
    "plt.show()"
   ]
  },
  {
   "cell_type": "code",
   "execution_count": 3,
   "id": "5debdfa8",
   "metadata": {},
   "outputs": [
    {
     "data": {
      "text/plain": [
       "[<matplotlib.lines.Line2D at 0x7f233c1d3ac0>]"
      ]
     },
     "execution_count": 3,
     "metadata": {},
     "output_type": "execute_result"
    },
    {
     "data": {
      "image/png": "[encoded data removed]",
      "text/plain": [
       "<Figure size 432x288 with 1 Axes>"
      ]
     },
     "metadata": {
      "needs_background": "light"
     },
     "output_type": "display_data"
    }
   ],
   "source": [
    "plt.plot(d_hist)"
   ]
  },
  {
   "cell_type": "code",
   "execution_count": 4,
   "id": "4a655275",
   "metadata": {},
   "outputs": [
    {
     "data": {
      "text/plain": [
       "[<matplotlib.lines.Line2D at 0x7f233c14e3a0>]"
      ]
     },
     "execution_count": 4,
     "metadata": {},
     "output_type": "execute_result"
    },
    {
     "data": {
      "image/png": "[encoded data removed]",
      "text/plain": [
       "<Figure size 432x288 with 1 Axes>"
      ]
     },
     "metadata": {
      "needs_background": "light"
     },
     "output_type": "display_data"
    }
   ],
   "source": [
    "plt.plot(past_states[:,4])"
   ]
  }
 ],
 "metadata": {
  "kernelspec": {
   "display_name": "Python 3",
   "language": "python",
   "name": "python3"
  },
  "language_info": {
   "codemirror_mode": {
    "name": "ipython",
    "version": 3
   },
   "file_extension": ".py",
   "mimetype": "text/x-python",
   "name": "python",
   "nbconvert_exporter": "python",
   "pygments_lexer": "ipython3",
   "version": "3.8.11"
  }
 },
 "nbformat": 4,
 "nbformat_minor": 5
}
