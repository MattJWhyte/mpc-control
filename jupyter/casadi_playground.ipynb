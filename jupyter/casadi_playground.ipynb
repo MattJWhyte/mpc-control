{
 "cells": [
  {
   "cell_type": "code",
   "execution_count": 1,
   "id": "695cd3b4",
   "metadata": {},
   "outputs": [],
   "source": [
    "from __future__ import print_function\n",
    "from pylab import *\n",
    "from casadi import *\n",
    "from casadi.tools import *  # for dotdraw\n",
    "from IPython.display import Image, display\n",
    "%matplotlib inline\n",
    "\n",
    "def view_dot(graph):\n",
    "   plt = Image(graph.create_png())\n",
    "   display(plt)"
   ]
  },
  {
   "cell_type": "code",
   "execution_count": 2,
   "id": "4205533c",
   "metadata": {},
   "outputs": [
    {
     "name": "stdout",
     "output_type": "stream",
     "text": [
      "(x*sin((x+y)))\n"
     ]
    }
   ],
   "source": [
    "x = SX.sym(\"x\")  # scalar symbolic primitives\n",
    "y = SX.sym(\"y\")\n",
    "\n",
    "z = x*sin(x+y)\n",
    "print(z)"
   ]
  },
  {
   "cell_type": "code",
   "execution_count": 3,
   "id": "dbf92fa9",
   "metadata": {},
   "outputs": [
    {
     "name": "stdout",
     "output_type": "stream",
     "text": [
      "f:(i0,i1)->(o0) SXFunction\n",
      "Algorithm:\n",
      "@0 = input[0][0];\n",
      "@1 = input[1][0];\n",
      "@1 = (@0+@1);\n",
      "@1 = sin(@1);\n",
      "@0 = (@0*@1);\n",
      "output[0][0] = @0;"
     ]
    }
   ],
   "source": [
    "f = Function(\"f\",[x,y],[z])\n",
    "\n",
    "f.disp(True)"
   ]
  },
  {
   "cell_type": "code",
   "execution_count": 4,
   "id": "ff04ac5d",
   "metadata": {},
   "outputs": [],
   "source": [
    "x = SX.sym(\"x\")  # scalar symbolic primitives\n",
    "y = SX.sym(\"y\")\n",
    "z = x + y\n",
    "\n",
    "f = Function(\"f\",[x,y],[z])"
   ]
  },
  {
   "cell_type": "code",
   "execution_count": 5,
   "id": "6bfd5349",
   "metadata": {},
   "outputs": [
    {
     "name": "stdout",
     "output_type": "stream",
     "text": [
      "0.6\n"
     ]
    }
   ],
   "source": [
    "print(f(0.5,))"
   ]
  },
  {
   "cell_type": "markdown",
   "id": "2c983ac0",
   "metadata": {},
   "source": []
  },
  {
   "cell_type": "code",
   "execution_count": 6,
   "id": "54c2bebf",
   "metadata": {},
   "outputs": [],
   "source": [
    "dt = 0.1\n",
    "N = 5\n",
    "\n",
    "a1 = MX.sym('a1')\n",
    "a2 = MX.sym('a2')\n",
    "a = vertcat(a1, a2)\n",
    "b1 = MX.sym('b1')\n",
    "b2 = MX.sym('b2')\n",
    "b = vertcat(b1, b2)\n",
    "\n",
    "xl = MX.sym(\"xl\")\n",
    "yl = MX.sym(\"yl\")\n",
    "xr = MX.sym(\"xr\")\n",
    "yr = MX.sym(\"yr\")\n",
    "ul = MX.sym(\"xl\")\n",
    "vl = MX.sym(\"yl\")\n",
    "\n",
    "bl = MX.sym(\"xl\",2)\n",
    "al = MX.sym(\"xl\",2)\n",
    "\n",
    "\n",
    "c = vertcat(xl + ul*0.1, yl + vl*0.1)\n",
    "\n",
    "f = Function(\"f\",[a,b],[c])"
   ]
  },
  {
   "cell_type": "code",
   "execution_count": 81,
   "id": "272e6243",
   "metadata": {},
   "outputs": [],
   "source": [
    "x1 = MX.sym('x1')\n",
    "x2 = MX.sym('x2')\n",
    "x = vertcat(x1, x2)\n",
    "u1 = MX.sym('u1')\n",
    "u2 = MX.sym('u2')\n",
    "u = vertcat(u1, u2)"
   ]
  },
  {
   "cell_type": "code",
   "execution_count": 85,
   "id": "7fd5dbdf",
   "metadata": {},
   "outputs": [
    {
     "ename": "Exception",
     "evalue": "Don't know what to do with unnamed arguments (MX(vertcat(x1, x2)),)",
     "output_type": "error",
     "traceback": [
      "\u001b[0;31m---------------------------------------------------------------------------\u001b[0m",
      "\u001b[0;31mException\u001b[0m                                 Traceback (most recent call last)",
      "\u001b[0;32m<ipython-input-85-ff366f2907c9>\u001b[0m in \u001b[0;36m<module>\u001b[0;34m\u001b[0m\n\u001b[1;32m      1\u001b[0m X = struct_symMX([\n\u001b[1;32m      2\u001b[0m (\n\u001b[0;32m----> 3\u001b[0;31m     \u001b[0mentry\u001b[0m\u001b[0;34m(\u001b[0m\u001b[0;34m\"x\"\u001b[0m\u001b[0;34m,\u001b[0m \u001b[0mx\u001b[0m\u001b[0;34m,\u001b[0m \u001b[0mrepeat\u001b[0m\u001b[0;34m=\u001b[0m\u001b[0mN\u001b[0m\u001b[0;34m+\u001b[0m\u001b[0;36m1\u001b[0m\u001b[0;34m)\u001b[0m\u001b[0;34m,\u001b[0m\u001b[0;34m\u001b[0m\u001b[0;34m\u001b[0m\u001b[0m\n\u001b[0m\u001b[1;32m      4\u001b[0m     \u001b[0mentry\u001b[0m\u001b[0;34m(\u001b[0m\u001b[0;34m\"u\"\u001b[0m\u001b[0;34m,\u001b[0m \u001b[0mrepeat\u001b[0m\u001b[0;34m=\u001b[0m\u001b[0mN\u001b[0m\u001b[0;34m)\u001b[0m\u001b[0;34m\u001b[0m\u001b[0;34m\u001b[0m\u001b[0m\n\u001b[1;32m      5\u001b[0m     )\n",
      "\u001b[0;32m~/anaconda3/envs/ml_env/lib/python3.8/site-packages/casadi/tools/structure3.py\u001b[0m in \u001b[0;36mentry\u001b[0;34m(*args, **kwargs)\u001b[0m\n\u001b[1;32m   1277\u001b[0m   \u001b[0;32mif\u001b[0m \u001b[0mlen\u001b[0m\u001b[0;34m(\u001b[0m\u001b[0margs\u001b[0m\u001b[0;34m)\u001b[0m\u001b[0;34m==\u001b[0m\u001b[0;36m1\u001b[0m \u001b[0;32mand\u001b[0m \u001b[0misinstance\u001b[0m\u001b[0;34m(\u001b[0m\u001b[0margs\u001b[0m\u001b[0;34m[\u001b[0m\u001b[0;36m0\u001b[0m\u001b[0;34m]\u001b[0m\u001b[0;34m,\u001b[0m\u001b[0mCasadiStructEntry\u001b[0m\u001b[0;34m)\u001b[0m\u001b[0;34m:\u001b[0m\u001b[0;34m\u001b[0m\u001b[0;34m\u001b[0m\u001b[0m\n\u001b[1;32m   1278\u001b[0m     \u001b[0;32mreturn\u001b[0m \u001b[0margs\u001b[0m\u001b[0;34m[\u001b[0m\u001b[0;36m0\u001b[0m\u001b[0;34m]\u001b[0m\u001b[0;34m\u001b[0m\u001b[0;34m\u001b[0m\u001b[0m\n\u001b[0;32m-> 1279\u001b[0;31m   \u001b[0;32mreturn\u001b[0m \u001b[0mCasadiStructEntry\u001b[0m\u001b[0;34m(\u001b[0m\u001b[0;34m*\u001b[0m\u001b[0margs\u001b[0m\u001b[0;34m,\u001b[0m\u001b[0;34m**\u001b[0m\u001b[0mkwargs\u001b[0m\u001b[0;34m)\u001b[0m\u001b[0;34m\u001b[0m\u001b[0;34m\u001b[0m\u001b[0m\n\u001b[0m\u001b[1;32m   1280\u001b[0m \u001b[0;34m\u001b[0m\u001b[0m\n\u001b[1;32m   1281\u001b[0m \u001b[0;32mclass\u001b[0m \u001b[0mEntryList\u001b[0m\u001b[0;34m:\u001b[0m\u001b[0;34m\u001b[0m\u001b[0;34m\u001b[0m\u001b[0m\n",
      "\u001b[0;32m~/anaconda3/envs/ml_env/lib/python3.8/site-packages/casadi/tools/structure3.py\u001b[0m in \u001b[0;36m__init__\u001b[0;34m(self, *args, **kwargs)\u001b[0m\n\u001b[1;32m   1128\u001b[0m \u001b[0;34m\u001b[0m\u001b[0m\n\u001b[1;32m   1129\u001b[0m     \u001b[0;32mif\u001b[0m \u001b[0mlen\u001b[0m\u001b[0;34m(\u001b[0m\u001b[0margs\u001b[0m\u001b[0;34m)\u001b[0m\u001b[0;34m>\u001b[0m\u001b[0;36m1\u001b[0m\u001b[0;34m:\u001b[0m\u001b[0;34m\u001b[0m\u001b[0;34m\u001b[0m\u001b[0m\n\u001b[0;32m-> 1130\u001b[0;31m       \u001b[0;32mraise\u001b[0m \u001b[0mException\u001b[0m\u001b[0;34m(\u001b[0m\u001b[0;34m\"Don't know what to do with unnamed arguments %s\"\u001b[0m \u001b[0;34m%\u001b[0m \u001b[0mstr\u001b[0m\u001b[0;34m(\u001b[0m\u001b[0margs\u001b[0m\u001b[0;34m[\u001b[0m\u001b[0;36m1\u001b[0m\u001b[0;34m:\u001b[0m\u001b[0;34m]\u001b[0m\u001b[0;34m)\u001b[0m\u001b[0;34m)\u001b[0m\u001b[0;34m\u001b[0m\u001b[0;34m\u001b[0m\u001b[0m\n\u001b[0m\u001b[1;32m   1131\u001b[0m \u001b[0;34m\u001b[0m\u001b[0m\n\u001b[1;32m   1132\u001b[0m \u001b[0;34m\u001b[0m\u001b[0m\n",
      "\u001b[0;31mException\u001b[0m: Don't know what to do with unnamed arguments (MX(vertcat(x1, x2)),)"
     ]
    }
   ],
   "source": []
  },
  {
   "cell_type": "code",
   "execution_count": 86,
   "id": "715ea1b3",
   "metadata": {},
   "outputs": [
    {
     "data": {
      "image/png": "[encoded data removed]",
      "text/plain": [
       "<Figure size 432x288 with 1 Axes>"
      ]
     },
     "metadata": {
      "needs_background": "light"
     },
     "output_type": "display_data"
    }
   ],
   "source": [
    "T = 5. # Time horizon\n",
    "N = 50 # number of control intervals\n",
    "\n",
    "# Declare model variables\n",
    "x1 = MX.sym('x1')\n",
    "x2 = MX.sym('x2')\n",
    "phi = MX.sym('phi')\n",
    "v = MX.sym('v')\n",
    "x = vertcat(x1, x2, phi, v)\n",
    "a = MX.sym('a')\n",
    "d = MX.sym('d')\n",
    "u = vertcat(a, d)\n",
    "\n",
    "L_f = 0.76\n",
    "\n",
    "# Model equations\n",
    "xdot = vertcat(v*cos(phi), v*sin(phi), v*d/L_f, a)\n",
    "\n",
    "# Objective term\n",
    "L = (x2) ** 2 + -(v)**2\n",
    "\n",
    "# Formulate discrete time dynamics\n",
    "# if False:\n",
    "   # CVODES from the SUNDIALS suite\n",
    "#   dae = {'x':x, 'p':u, 'ode':xdot, 'quad':L}\n",
    "#   opts = {'tf':T/N}\n",
    "#   F = integrator('F', 'cvodes', dae, opts)\n",
    "\n",
    "'''\n",
    "f = Function('f', [x, u], [xdot])\n",
    "Lf = Function('Lf', [x, u], [L])\n",
    "\n",
    "dae = {'x':x, 'p':u, 'ode':f(x,u), 'quad':Lf(x,u)}\n",
    "opts = {'tf':T/N, \"simplify\": True, \"number_of_finite_elements\": 4}\n",
    "f = integrator('f', 'rk', dae, opts)\n",
    "'''\n",
    "\n",
    "DT = T/N\n",
    "f = Function('f', [x, u], [xdot, L])\n",
    "X0 = MX.sym('X0', 4)\n",
    "U = MX.sym('U', 2)\n",
    "X = X0\n",
    "Q = 0\n",
    "\n",
    "k1, k1_q = f(X, U)\n",
    "X=X+DT*k1\n",
    "Q = k1_q\n",
    "F = Function('F', [X0, U], [X, Q],['x0','p'],['xf','qf'])\n",
    "\n",
    "def loop(x_val,y_val,phi_val,v_val):\n",
    "    # Start with an empty NLP\n",
    "    w=[]\n",
    "    w0 = []\n",
    "    lbw = []\n",
    "    ubw = []\n",
    "    J = 0\n",
    "    g=[]\n",
    "    lbg = []\n",
    "    ubg = []\n",
    "\n",
    "    # \"Lift\" initial conditions\n",
    "    Xk = MX.sym('X0', 4)\n",
    "    w += [Xk]\n",
    "    lbw += [x_val,y_val,phi_val,v_val]\n",
    "    ubw += [x_val,y_val,phi_val,v_val]\n",
    "    w0 += [x_val,y_val,phi_val,v_val]\n",
    "\n",
    "    Xk = MX([x_val, y_val, phi_val, v_val])\n",
    "    # Formulate the NLP\n",
    "    for k in range(N):\n",
    "        # New NLP variable for the control\n",
    "        Uk = MX.sym('U_' + str(k), 2)\n",
    "        w   += [Uk]\n",
    "        lbw += [-1,-0.43] # 25-degrees in radians\n",
    "        ubw += [1,0.43]\n",
    "        w0  += [0,0]\n",
    "\n",
    "        # Integrate till the end of the interval\n",
    "        Fk = F(x0=Xk, p=Uk)\n",
    "        Xk_end = Fk['xf']\n",
    "        J=J+Fk['qf']\n",
    "\n",
    "        # New NLP variable for state at end of interval\n",
    "        Xk = MX.sym('X_' + str(k+1), 4)\n",
    "        w   += [Xk]\n",
    "        lbw += [0, -inf, -inf, 0]\n",
    "        ubw += [  inf,  inf, inf, inf]\n",
    "        w0  += [0, 0, 0, 0]\n",
    "\n",
    "        # Add equality constraint\n",
    "        g   += [Xk_end-Xk]\n",
    "        lbg += [0, 0, 0, 0]\n",
    "        ubg += [0, 0, 0, 0]\n",
    "\n",
    "    # Create an NLP solver\n",
    "    prob = {'f': J, 'x': vertcat(*w), 'g': vertcat(*g)}\n",
    "    opts = {'ipopt.print_level':0, 'print_time':0}\n",
    "    solver = nlpsol('solver', 'ipopt', prob, opts)\n",
    "\n",
    "    # Solve the NLP\n",
    "    sol = solver(x0=w0, lbx=lbw, ubx=ubw, lbg=lbg, ubg=ubg)\n",
    "\n",
    "\n",
    "    w_opt = sol['x'].full().flatten()\n",
    "\n",
    "    # Plot the solution\n",
    "    x1_opt = w_opt[0::6]\n",
    "    x2_opt = w_opt[1::6]\n",
    "    u1_opt = w_opt[4::6]\n",
    "    u2_opt = w_opt[5::6]\n",
    "\n",
    "    '''\n",
    "    tgrid = [T/N*k for k in range(N+1)]\n",
    "    import matplotlib.pyplot as plt\n",
    "    plt.figure(1)\n",
    "    plt.clf()\n",
    "    plt.plot(tgrid, x1_opt, '--')\n",
    "    plt.plot(tgrid, x2_opt, '-')\n",
    "    plt.step(tgrid, vertcat(DM.nan(1), u1_opt), '-.')\n",
    "    plt.step(tgrid, vertcat(DM.nan(1), u2_opt), '-.')\n",
    "    plt.xlabel('t')\n",
    "    plt.legend(['x1','x2','a','d'])\n",
    "    plt.grid()\n",
    "    plt.show()'''\n",
    "\n",
    "    return u1_opt[0],u2_opt[0],x1_opt,x2_opt\n",
    "\n",
    "import numpy as np\n",
    "\n",
    "def move(state, a, d, dt):\n",
    "    x1,x2,phi,v = state\n",
    "    g = [v*np.cos(phi), v*np.sin(phi), v*d/L_f, a]\n",
    "    return [state[i] + g[i]*dt for i in range(4)]\n",
    "        \n",
    "M = 50\n",
    "past_states = np.zeros((M,4))\n",
    "state = [0.1,0,0,0]\n",
    "\n",
    "a_hist = []\n",
    "d_hist = []\n",
    "x = []\n",
    "y = []\n",
    "for epoch in range(M):\n",
    "    past_states[epoch,:] = np.array(state)\n",
    "    opt_a,opt_d,x,y = loop(*state)\n",
    "    a_hist.append(opt_a)\n",
    "    d_hist.append(opt_d)\n",
    "    state = move(state, opt_a, opt_d, DT)\n",
    "\n",
    "plt.plot(past_states[:,0], past_states[:,1])\n",
    "#plt.plot(x,y)\n",
    "plt.grid(True)\n",
    "plt.show()"
   ]
  },
  {
   "cell_type": "code",
   "execution_count": 87,
   "id": "ec9ea2f0",
   "metadata": {},
   "outputs": [
    {
     "data": {
      "text/plain": [
       "[<matplotlib.lines.Line2D at 0x7ff4a7c682e0>]"
      ]
     },
     "execution_count": 87,
     "metadata": {},
     "output_type": "execute_result"
    },
    {
     "data": {
      "image/png": "[encoded data removed]",
      "text/plain": [
       "<Figure size 432x288 with 1 Axes>"
      ]
     },
     "metadata": {
      "needs_background": "light"
     },
     "output_type": "display_data"
    }
   ],
   "source": [
    "plt.plot(a_hist)"
   ]
  },
  {
   "cell_type": "code",
   "execution_count": 68,
   "id": "cbce991f",
   "metadata": {},
   "outputs": [
    {
     "data": {
      "text/plain": [
       "[<matplotlib.lines.Line2D at 0x7ff4a7f5f850>]"
      ]
     },
     "execution_count": 68,
     "metadata": {},
     "output_type": "execute_result"
    },
    {
     "data": {
      "image/png": "[encoded data removed]",
      "text/plain": [
       "<Figure size 432x288 with 1 Axes>"
      ]
     },
     "metadata": {
      "needs_background": "light"
     },
     "output_type": "display_data"
    }
   ],
   "source": [
    "plt.plot(past_states[140:200,0], past_states[140:200,1])"
   ]
  }
 ],
 "metadata": {
  "kernelspec": {
   "display_name": "Python 3",
   "language": "python",
   "name": "python3"
  },
  "language_info": {
   "codemirror_mode": {
    "name": "ipython",
    "version": 3
   },
   "file_extension": ".py",
   "mimetype": "text/x-python",
   "name": "python",
   "nbconvert_exporter": "python",
   "pygments_lexer": "ipython3",
   "version": "3.8.11"
  }
 },
 "nbformat": 4,
 "nbformat_minor": 5
}
